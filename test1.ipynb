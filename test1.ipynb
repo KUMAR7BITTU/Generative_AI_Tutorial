{
 "cells": [
  {
   "cell_type": "code",
   "execution_count": 4,
   "id": "4f55e8d4",
   "metadata": {},
   "outputs": [
    {
     "name": "stdout",
     "output_type": "stream",
     "text": [
      "[(0, 910), (1, 240), (2, 130), (3, 140), (4, 540)]\n"
     ]
    }
   ],
   "source": [
    "l = [910,240,130,140,540]\n",
    "print(list(enumerate(l)))"
   ]
  },
  {
   "cell_type": "code",
   "execution_count": 7,
   "id": "ac2e0f91",
   "metadata": {},
   "outputs": [
    {
     "name": "stdout",
     "output_type": "stream",
     "text": [
      "[(2, 130), (3, 140), (1, 240), (4, 540), (0, 910)]\n"
     ]
    }
   ],
   "source": [
    "print(sorted(list(enumerate(l)), key = lambda x:x[1]))"
   ]
  },
  {
   "cell_type": "code",
   "execution_count": 8,
   "id": "e719cdef",
   "metadata": {},
   "outputs": [
    {
     "name": "stdout",
     "output_type": "stream",
     "text": [
      "(0, 910)\n"
     ]
    }
   ],
   "source": [
    "print(sorted(list(enumerate(l)), key = lambda x:x[1])[-1])"
   ]
  },
  {
   "cell_type": "code",
   "execution_count": 9,
   "id": "c0da538a",
   "metadata": {},
   "outputs": [
    {
     "name": "stdout",
     "output_type": "stream",
     "text": [
      "0\n",
      "910\n"
     ]
    }
   ],
   "source": [
    "index,score = sorted(list(enumerate(l)), key = lambda x:x[1])[-1]\n",
    "print(index)\n",
    "print(score)"
   ]
  }
 ],
 "metadata": {
  "kernelspec": {
   "display_name": "venv",
   "language": "python",
   "name": "python3"
  },
  "language_info": {
   "codemirror_mode": {
    "name": "ipython",
    "version": 3
   },
   "file_extension": ".py",
   "mimetype": "text/x-python",
   "name": "python",
   "nbconvert_exporter": "python",
   "pygments_lexer": "ipython3",
   "version": "3.13.5"
  }
 },
 "nbformat": 4,
 "nbformat_minor": 5
}
